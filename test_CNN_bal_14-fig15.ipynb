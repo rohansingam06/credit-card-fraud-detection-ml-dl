import unittest
import pandas as pd
import numpy as np
from sklearn.model_selection import train_test_split
from sklearn.preprocessing import StandardScaler
from sklearn.utils import class_weight
from tensorflow.keras.models import Sequential
from tensorflow.keras.layers import Conv1D, BatchNormalization, Dropout, Flatten, Dense
from tensorflow.keras.optimizers import Adam
from CNN_bal_14_fig15 import model, X_scaled, y, class_weights_dict

# test_CNN_bal_14-fig15.ipynb

class TestCNNModel(unittest.TestCase):
    def setUp(self):
        # Split the dataset for testing
        self.X_train, self.X_test, self.y_train, self.y_test = train_test_split(
            X_scaled, y, test_size=0.2, stratify=y, random_state=42
        )

    def test_data_shape(self):
        # Test if the data is correctly reshaped for Conv1D
        self.assertEqual(len(X_scaled.shape), 3)
        self.assertEqual(X_scaled.shape[2], 1)

    def test_model_architecture(self):
        # Test the number of layers in the model
        self.assertEqual(len(model.layers), 8)

        # Test specific layer types
        self.assertIsInstance(model.layers[0], Conv1D)
        self.assertIsInstance(model.layers[1], BatchNormalization)
        self.assertIsInstance(model.layers[2], Dropout)
        self.assertIsInstance(model.layers[-1], Dense)

    def test_training(self):
        # Train the model for 1 epoch to ensure no errors
        history = model.fit(
            self.X_train, self.y_train,
            epochs=1,
            batch_size=2048,
            validation_data=(self.X_test, self.y_test),
            class_weight=class_weights_dict,
            verbose=0
        )
        # Check if training history contains accuracy and loss
        self.assertIn('accuracy', history.history)
        self.assertIn('loss', history.history)

    def test_evaluation(self):
        # Evaluate the model on test data
        loss, accuracy = model.evaluate(self.X_test, self.y_test, verbose=0)
        # Check if accuracy is a valid value
        self.assertGreaterEqual(accuracy, 0)
        self.assertLessEqual(accuracy, 1)

if __name__ == '__main__':
    unittest.main(argv=[''], exit=False)